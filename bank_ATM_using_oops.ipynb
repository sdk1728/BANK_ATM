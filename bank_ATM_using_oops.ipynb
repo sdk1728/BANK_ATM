{
 "cells": [
  {
   "cell_type": "code",
   "execution_count": null,
   "id": "63fe0aad",
   "metadata": {},
   "outputs": [],
   "source": [
    "parent class : user\n",
    "holds details about an user\n",
    "has a function to show user details \n",
    "child class: bank\n",
    "stores details about the account balance\n",
    "stores details about the amount\n",
    "allows for deposits, withdraw,view balance"
   ]
  },
  {
   "cell_type": "code",
   "execution_count": 5,
   "id": "a79d38aa",
   "metadata": {},
   "outputs": [
    {
     "name": "stdout",
     "output_type": "stream",
     "text": [
      "\t\t\t\t ****WELCOME TO SDK ATM**** \n",
      "\n",
      "The accout balance has been updated:  100 \n",
      "\n",
      "The accout balance has been updated:  600 \n",
      "\n",
      "The accout balance has been updated:  1600 \n",
      "\n",
      "The account balance has been updated | The availble balance is : 1100 \n",
      "\n",
      "SOORY!! The account balance is insufficient|The available balance is :  1100 \n",
      "\n",
      "The account balance has been updated | The availble balance is : 1100 \n",
      "\n"
     ]
    }
   ],
   "source": [
    "print(\"\\t\\t\\t\\t ****WELCOME TO SDK ATM**** \\n\")\n",
    "class user():\n",
    "    def __init__(self,name,age,gender):\n",
    "        self.name=name\n",
    "        self.age=age\n",
    "        self.gender=gender\n",
    "        \n",
    "    def show_user_details(self):\n",
    "        print(\"The user details are: \")\n",
    "        print(\" \")\n",
    "        print('NAME:', self.name)\n",
    "        print('AGE:', self.age)\n",
    "        print('GENDER:', self.gender)\n",
    "        \n",
    "class bank(user):\n",
    "    def __init__(self,name,age,gender):\n",
    "        super().__init__(name,age,gender)\n",
    "        self.balance=0\n",
    "        \n",
    "        \n",
    "        \n",
    "    def deposit(self,amount):\n",
    "        self.amount=amount\n",
    "        self.balance=self.amount + self.balance\n",
    "        print(\"The accout balance has been updated: \", self.balance,'\\n')\n",
    "        \n",
    "        \n",
    "    def withdraw(self,amount):\n",
    "        self.amount=amount\n",
    "        if (self.amount > self.balance):\n",
    "            print(\"SOORY!! The account balance is insufficient|The available balance is : \", self.balance,'\\n' )\n",
    "        else:\n",
    "            self.balance=self.balance - self.amount\n",
    "            print(\"The account balance has been updated | The availble balance is :\", self.balance,'\\n')\n",
    "    \n",
    "        \n",
    "    def view_balance(self):\n",
    "        print(\"The account balance has been updated | The availble balance is :\", self.balance,'\\n')\n",
    "        \n",
    "        \n",
    "        \n",
    "        \n",
    "\n",
    "\n",
    "s1=bank('Shubham',24,'Male')\n",
    "s1.deposit(100)\n",
    "s1.deposit(500)\n",
    "\n",
    "s1.deposit(1000)\n",
    "s1.withdraw(500)\n",
    "s1.withdraw(1500)\n",
    "\n",
    "s1.view_balance()\n",
    "        "
   ]
  },
  {
   "cell_type": "code",
   "execution_count": null,
   "id": "bd5d80e6",
   "metadata": {},
   "outputs": [],
   "source": []
  }
 ],
 "metadata": {
  "kernelspec": {
   "display_name": "Python 3 (ipykernel)",
   "language": "python",
   "name": "python3"
  },
  "language_info": {
   "codemirror_mode": {
    "name": "ipython",
    "version": 3
   },
   "file_extension": ".py",
   "mimetype": "text/x-python",
   "name": "python",
   "nbconvert_exporter": "python",
   "pygments_lexer": "ipython3",
   "version": "3.9.7"
  }
 },
 "nbformat": 4,
 "nbformat_minor": 5
}
